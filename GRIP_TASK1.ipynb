{
  "nbformat": 4,
  "nbformat_minor": 0,
  "metadata": {
    "colab": {
      "name": "GRIP_TASK1",
      "provenance": [],
      "collapsed_sections": []
    },
    "kernelspec": {
      "name": "python3",
      "display_name": "Python 3"
    },
    "language_info": {
      "name": "python"
    }
  },
  "cells": [
    {
      "cell_type": "markdown",
      "metadata": {
        "id": "zDkBN_kVtrpQ"
      },
      "source": [
        "#  **THE SPARKS FOUNDATION**\n",
        "  \n",
        "  Author: Vishva Bhatt \n",
        "\n",
        "#  **Task 1: Prediction using supervised ML**\n",
        "  What will be the predicted score if a student studies for 9.25 hrs/ day? "
      ]
    },
    {
      "cell_type": "code",
      "metadata": {
        "id": "J_nR10D2cIjY"
      },
      "source": [
        "#Importing all the required libraries\n",
        "import numpy as np\n",
        "from sklearn.linear_model import LinearRegression"
      ],
      "execution_count": 2,
      "outputs": []
    },
    {
      "cell_type": "code",
      "metadata": {
        "id": "b47EauxjgdDi",
        "colab": {
          "base_uri": "https://localhost:8080/"
        },
        "outputId": "ca172faa-a334-4a9b-a922-f26836e80a39"
      },
      "source": [
        "import pandas as pd\n",
        "#Loading & Reading the Dataset\n",
        "\n",
        "url = 'https://raw.githubusercontent.com/AdiPersonalWorks/Random/master/student_scores%20-%20student_scores.csv'\n",
        "df1 = pd.read_csv(url)\n",
        "print(df1)\n",
        "Hours=df1.iloc[:,:-1].values\n",
        "Scores=df1.iloc[:,1].values\n",
        "#print(df1[\"Hours\"])\n",
        "#print(df1[\"Scores\"])\n",
        "#print(df1[\"Hours\"])\n",
        "# Dataset is now stored in a Pandas Dataframe"
      ],
      "execution_count": 23,
      "outputs": [
        {
          "output_type": "stream",
          "text": [
            "    Hours  Scores\n",
            "0     2.5      21\n",
            "1     5.1      47\n",
            "2     3.2      27\n",
            "3     8.5      75\n",
            "4     3.5      30\n",
            "5     1.5      20\n",
            "6     9.2      88\n",
            "7     5.5      60\n",
            "8     8.3      81\n",
            "9     2.7      25\n",
            "10    7.7      85\n",
            "11    5.9      62\n",
            "12    4.5      41\n",
            "13    3.3      42\n",
            "14    1.1      17\n",
            "15    8.9      95\n",
            "16    2.5      30\n",
            "17    1.9      24\n",
            "18    6.1      67\n",
            "19    7.4      69\n",
            "20    2.7      30\n",
            "21    4.8      54\n",
            "22    3.8      35\n",
            "23    6.9      76\n",
            "24    7.8      86\n"
          ],
          "name": "stdout"
        }
      ]
    },
    {
      "cell_type": "markdown",
      "metadata": {
        "id": "k5e7wAjA63XI"
      },
      "source": [
        "**Visualizing our dataset**"
      ]
    },
    {
      "cell_type": "code",
      "metadata": {
        "colab": {
          "base_uri": "https://localhost:8080/",
          "height": 295
        },
        "id": "CrAfyoSJqCBD",
        "outputId": "f9e7806d-f134-4457-fcf2-bef91bb6623e"
      },
      "source": [
        "import matplotlib.pyplot as plt  \n",
        "%matplotlib inline\n",
        "\n",
        "##Visualizing our dataset\n",
        "df1.plot(x='Hours', y='Scores', style='o')  \n",
        "plt.title('Hours vs Percentage')  \n",
        "plt.xlabel('Hours Studied')  \n",
        "plt.ylabel('Percentage Score')  \n",
        "plt.show()"
      ],
      "execution_count": 4,
      "outputs": [
        {
          "output_type": "display_data",
          "data": {
            "image/png": "[encoded data removed]",
            "text/plain": [
              "<Figure size 432x288 with 1 Axes>"
            ]
          },
          "metadata": {
            "tags": [],
            "needs_background": "light"
          }
        }
      ]
    },
    {
      "cell_type": "markdown",
      "metadata": {
        "id": "aC0OY-S268jW"
      },
      "source": [
        "**Training the model after diving to train and test**"
      ]
    },
    {
      "cell_type": "code",
      "metadata": {
        "id": "Exk3STjn4bfO"
      },
      "source": [
        "from sklearn.model_selection import train_test_split\n",
        "X_train, X_test, y_train, y_test = train_test_split(Hours, Scores, test_size=0.20)"
      ],
      "execution_count": 5,
      "outputs": []
    },
    {
      "cell_type": "code",
      "metadata": {
        "colab": {
          "base_uri": "https://localhost:8080/"
        },
        "id": "stUD1QWvb4S6",
        "outputId": "f7c14175-0dbb-48d7-f0d9-9092de210b0d"
      },
      "source": [
        "model = LinearRegression()\n",
        "model.fit(X_train, y_train)"
      ],
      "execution_count": 12,
      "outputs": [
        {
          "output_type": "execute_result",
          "data": {
            "text/plain": [
              "LinearRegression(copy_X=True, fit_intercept=True, n_jobs=None, normalize=False)"
            ]
          },
          "metadata": {
            "tags": []
          },
          "execution_count": 12
        }
      ]
    },
    {
      "cell_type": "code",
      "metadata": {
        "colab": {
          "base_uri": "https://localhost:8080/"
        },
        "id": "7KNYzcdOeivK",
        "outputId": "8332f907-dbe0-4ab0-e918-f85168803f42"
      },
      "source": [
        "r_sq = model.score(Hours, Scores)\n",
        "print('coefficient of determination:', r_sq)\n",
        "print('intercept:', model.intercept_)\n",
        "print('slope:', model.coef_)\n"
      ],
      "execution_count": 13,
      "outputs": [
        {
          "output_type": "stream",
          "text": [
            "coefficient of determination: 0.9518105824157003\n",
            "intercept: 1.151843539046716\n",
            "slope: [10.09543227]\n"
          ],
          "name": "stdout"
        }
      ]
    },
    {
      "cell_type": "markdown",
      "metadata": {
        "id": "thXbQSgH7SLy"
      },
      "source": [
        "Visualizing the test data\n",
        "- Actual Values VS Predicted Values"
      ]
    },
    {
      "cell_type": "code",
      "metadata": {
        "colab": {
          "base_uri": "https://localhost:8080/"
        },
        "id": "B6dWKz7pgYvy",
        "outputId": "07667cfa-8d8f-4d0a-dcc6-079fdf963ead"
      },
      "source": [
        "Scores_pred=model.predict(X_test)\n",
        "print(\"Predicted Scores\", Scores_pred, sep='\\n')"
      ],
      "execution_count": 14,
      "outputs": [
        {
          "output_type": "stream",
          "text": [
            "Predicted Scores\n",
            "[56.67672104 28.40951067 86.96301785 28.40951067 16.29499195]\n"
          ],
          "name": "stdout"
        }
      ]
    },
    {
      "cell_type": "code",
      "metadata": {
        "colab": {
          "base_uri": "https://localhost:8080/",
          "height": 268
        },
        "id": "nEi2CUbz5uwn",
        "outputId": "6d9cd76a-4e59-4b54-d802-f5afc7d8eff4"
      },
      "source": [
        "Actual_values = y_test\n",
        "plt.plot(X_test, y_test,marker = 'o', ls=\"\")\n",
        "plt.plot(X_test, Scores_pred, color='k',marker='o',ls='-')\n",
        "plt.show()"
      ],
      "execution_count": 18,
      "outputs": [
        {
          "output_type": "display_data",
          "data": {
            "image/png": "[encoded data removed]",
            "text/plain": [
              "<Figure size 432x288 with 1 Axes>"
            ]
          },
          "metadata": {
            "tags": [],
            "needs_background": "light"
          }
        }
      ]
    },
    {
      "cell_type": "markdown",
      "metadata": {
        "id": "m3cab9nL7opt"
      },
      "source": [
        "**Model Prediction**"
      ]
    },
    {
      "cell_type": "code",
      "metadata": {
        "colab": {
          "base_uri": "https://localhost:8080/"
        },
        "id": "aKyMJMZVhPo1",
        "outputId": "68c4492e-bc3c-47db-c08f-14975c3f8931"
      },
      "source": [
        "Hours_new=9.25\n",
        "df2=pd.DataFrame({Hours_new})\n",
        "Hours_new=df2.iloc[:,:1].values\n",
        "own_pred = model.predict(Hours_new)\n",
        "print(\"No of Hours = {}\".format(Hours_new))\n",
        "print(\"Predicted Score = {}\".format(own_pred[0]))"
      ],
      "execution_count": 20,
      "outputs": [
        {
          "output_type": "stream",
          "text": [
            "No of Hours = [[9.25]]\n",
            "Predicted Score = 94.5345920570195\n"
          ],
          "name": "stdout"
        }
      ]
    },
    {
      "cell_type": "markdown",
      "metadata": {
        "id": "eE_HQMFv7jE6"
      },
      "source": [
        "**Metrics**"
      ]
    },
    {
      "cell_type": "code",
      "metadata": {
        "colab": {
          "base_uri": "https://localhost:8080/"
        },
        "id": "Mj6RB7eAo2tH",
        "outputId": "90542f0e-1992-4ae2-a9d7-60923f8bc26d"
      },
      "source": [
        "from sklearn import metrics  \n",
        "print('Mean Absolute Error:', \n",
        "      metrics.mean_absolute_error(y_test, Scores_pred)) "
      ],
      "execution_count": 22,
      "outputs": [
        {
          "output_type": "stream",
          "text": [
            "Mean Absolute Error: 4.798260973854639\n"
          ],
          "name": "stdout"
        }
      ]
    }
  ]
}